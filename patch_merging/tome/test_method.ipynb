{
 "cells": [
  {
   "cell_type": "code",
   "execution_count": null,
   "metadata": {},
   "outputs": [],
   "source": [
    "import torch\n",
    "from coreset import CoresetSelection\n",
    "# Example data with scores only (unlabeled data)\n",
    "data_score = {\n",
    "    'score_key': torch.rand(torch.Size([956, 768]))  # Random scores for 1000 samples\n",
    "}\n",
    "\n",
    "# Parameters for selection\n",
    "key = 'score_key'\n",
    "ratio = 0.5  # Reduce data size by half\n",
    "descending = True\n",
    "class_balanced = False  # Ignored since data is unlabeled\n",
    "\n",
    "# Use the score_monotonic_selection method\n",
    "selected_indices = CoresetSelection.score_monotonic_selection(\n",
    "    data_score, key, ratio, descending, class_balanced\n",
    ")\n",
    "\n",
    "print(f'Selected {selected_indices.numel()} indices: {selected_indices}\")\n",
    "\n",
    "# Alternatively, use stratified_sampling method\n",
    "coreset_num = 500  # Number of samples to select\n",
    "selected_indices = CoresetSelection.stratified_sampling(\n",
    "    data_score, coreset_key=key, coreset_num=coreset_num\n",
    ")\n",
    "\n",
    "print(f'Selected {len(selected_indices)} indices via stratified sampling.\")"
   ]
  }
 ],
 "metadata": {
  "kernelspec": {
   "display_name": "baseline",
   "language": "python",
   "name": "python3"
  },
  "language_info": {
   "name": "python",
   "version": "3.10.16"
  }
 },
 "nbformat": 4,
 "nbformat_minor": 2
}
